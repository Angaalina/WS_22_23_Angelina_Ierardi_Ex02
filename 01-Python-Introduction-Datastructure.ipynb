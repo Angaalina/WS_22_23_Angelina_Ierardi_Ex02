{
 "cells": [
  {
   "cell_type": "markdown",
   "metadata": {},
   "source": [
    "# A Quick Introduction to Python data Structure II\n",
    "The following subjects will be discussed in this quick introduciton II\n",
    "1. Dictionaries\n",
    "2. Tuples\n",
    "3. Sets \n",
    "4. Booleans & Comparison operators\n",
    "4. Read user inputs"
   ]
  },
  {
   "cell_type": "markdown",
   "metadata": {},
   "source": [
    "## 1. Dictionaries\n",
    "Also called map in other languages, dictionaries are key-value pairs. You can save datas as a key-value. \n"
   ]
  },
  {
   "cell_type": "markdown",
   "metadata": {},
   "source": [
    "### 1.a. Create a dictionary: \n",
    "Dictionaries are stored in key-value pair and unlike sequence that stored object by their relative position, they store values by their keys. \n",
    "\n",
    "This is how you can create a dictionary in Python: \n",
    "\n",
    "NB: Dictionaries are created with \"{}\" and the semi-colon \":\" separate the key and the value. \n"
   ]
  },
  {
   "cell_type": "code",
   "execution_count": null,
   "metadata": {},
   "outputs": [],
   "source": [
    "# a dictionary with 3 key-value string pairs.  \n",
    "my_dictionary = {'1st_key':'1st_value', '2nd_key':'2nd_value', '3thd_key': '3thd_value'}"
   ]
  },
  {
   "cell_type": "code",
   "execution_count": null,
   "metadata": {},
   "outputs": [],
   "source": [
    "# call the first value by his key\n",
    "my_dictionary['1st_key']\n",
    "len(my_dictionary)"
   ]
  },
  {
   "cell_type": "code",
   "execution_count": null,
   "metadata": {},
   "outputs": [],
   "source": [
    "# you can also save other object like list in a dictionary\n",
    "my_dictionary = {'1st_key':'1st_value', '2nd_key':456, '3thd_key': [13,15,17,18], '4th_key':['first', 'second', 'third']}"
   ]
  },
  {
   "cell_type": "code",
   "execution_count": null,
   "metadata": {},
   "outputs": [],
   "source": [
    "# and then access the index of that value \n",
    "# print(my_dictionary['3thd_key'])\n",
    "# my_list_from_dic = my_dictionary['3thd_key']\n",
    "# print(my_list_from_dic[1])\n",
    "print(my_dictionary['3thd_key'][2])"
   ]
  },
  {
   "cell_type": "code",
   "execution_count": null,
   "metadata": {},
   "outputs": [],
   "source": [
    "# or even call method on that called index \n",
    "# my_dictionary['4th_key']\n",
    "# hello = \"first\"\n",
    "# print(hello.title())\n",
    "my_dictionary['4th_key'][2].title()"
   ]
  },
  {
   "cell_type": "markdown",
   "metadata": {},
   "source": [
    "Unlike List, `Dictionary are mutable` (the elements inside it can be changed)"
   ]
  },
  {
   "cell_type": "code",
   "execution_count": null,
   "metadata": {},
   "outputs": [],
   "source": [
    "# Let's take the second element of the dictionary\n",
    "my_dictionary['2nd_key']"
   ]
  },
  {
   "cell_type": "code",
   "execution_count": null,
   "metadata": {},
   "outputs": [],
   "source": [
    "# and then substract 400 from it \n",
    "my_dictionary['2nd_key']  = my_dictionary['2nd_key'] - 400\n",
    "# my_dictionary['2nd_key'] = 2022"
   ]
  },
  {
   "cell_type": "code",
   "execution_count": null,
   "metadata": {},
   "outputs": [],
   "source": [
    "# check\n",
    "my_dictionary"
   ]
  },
  {
   "cell_type": "markdown",
   "metadata": {},
   "source": [
    "You can also create an empty dictionary and then fill it later "
   ]
  },
  {
   "cell_type": "code",
   "execution_count": null,
   "metadata": {},
   "outputs": [],
   "source": [
    "my_dictionary_2 = {}"
   ]
  },
  {
   "cell_type": "code",
   "execution_count": null,
   "metadata": {},
   "outputs": [],
   "source": [
    "# check\n",
    "my_dictionary_2"
   ]
  },
  {
   "cell_type": "code",
   "execution_count": null,
   "metadata": {},
   "outputs": [],
   "source": [
    "#create our first and second elements in the dictionary\n",
    "my_dictionary_2['location']='Bremerhaven'\n",
    "my_dictionary_2['module']='Information-Technology'\n",
    "# create a third element in the dictionary? key should be \"month\" and the value should be \"december\"\n",
    "my_dictionary_2['month']='december'\n"
   ]
  },
  {
   "cell_type": "code",
   "execution_count": null,
   "metadata": {},
   "outputs": [],
   "source": [
    "#check\n",
    "my_dictionary_2['month']"
   ]
  },
  {
   "cell_type": "markdown",
   "metadata": {},
   "source": [
    "### 1.b. Nesting dictionaries\n",
    "It is possible to nest dictionaies. Just like dictionaries with other objects. Let's see an example. "
   ]
  },
  {
   "cell_type": "code",
   "execution_count": null,
   "metadata": {},
   "outputs": [],
   "source": [
    "# create a new dictionary d with another dictionary inside it  \n",
    "d = {'1st_key':{'1st_nested_key':'value'},'2nd':'Hola'}"
   ]
  },
  {
   "cell_type": "code",
   "execution_count": null,
   "metadata": {},
   "outputs": [],
   "source": [
    "d"
   ]
  },
  {
   "cell_type": "code",
   "execution_count": null,
   "metadata": {},
   "outputs": [],
   "source": [
    "# and then access it \n",
    "d['1st_key']"
   ]
  },
  {
   "cell_type": "code",
   "execution_count": null,
   "metadata": {},
   "outputs": [],
   "source": [
    "# what do we get in return \n",
    "inside_dictionary = d['1st_key']\n",
    "type(inside_dictionary)"
   ]
  },
  {
   "cell_type": "code",
   "execution_count": null,
   "metadata": {},
   "outputs": [],
   "source": [
    "# then access the key inside the dictionary\n",
    "d['1st_key']['1st_nested_key']"
   ]
  },
  {
   "cell_type": "markdown",
   "metadata": {},
   "source": [
    "### 1.c. Simple dictionary methods\n",
    "There are many dicitonary methods that you can find on the official python documentation but here are a few ones. ([here for more](https://docs.python.org/3/library/stdtypes.html#dict.keys)) . "
   ]
  },
  {
   "cell_type": "code",
   "execution_count": null,
   "metadata": {},
   "outputs": [],
   "source": [
    "# let's take our old dictionary\n",
    "my_dictionary = {'1st_key':'1st_value', '2nd_key':'2nd_value', '3thd_key': '3thd_value'}"
   ]
  },
  {
   "cell_type": "code",
   "execution_count": null,
   "metadata": {},
   "outputs": [],
   "source": [
    "# the method \"keys()\" return a list of all keys \n",
    "my_dictionary.keys()"
   ]
  },
  {
   "cell_type": "code",
   "execution_count": null,
   "metadata": {},
   "outputs": [],
   "source": [
    "# Method values grab all values\n",
    "my_dictionary.values()"
   ]
  },
  {
   "cell_type": "code",
   "execution_count": null,
   "metadata": {},
   "outputs": [],
   "source": [
    "# Method to return tuples of all items. Tuple is the next section\n",
    "d.items()"
   ]
  },
  {
   "cell_type": "markdown",
   "metadata": {},
   "source": [
    "## 2. Tuples\n",
    "In Python tuples are like lists, however they are immutable (they cannot be changed). It is used to set things that you don't want to change in the future, f.e. days of the week or dates... . \n"
   ]
  },
  {
   "cell_type": "markdown",
   "metadata": {},
   "source": [
    "### 2.a. Tuples construction\n",
    "Tuples just use ```()``` with elements separated by commans in order to be constructed. Let's create ourt first tuple. "
   ]
  },
  {
   "cell_type": "code",
   "execution_count": null,
   "metadata": {},
   "outputs": [],
   "source": [
    "# creating a tuple with 5 elements \n",
    "week_day = ('Monday', 'Tuesday', 'Wednesday', 'Thursday', 'Friday')"
   ]
  },
  {
   "cell_type": "code",
   "execution_count": null,
   "metadata": {},
   "outputs": [],
   "source": [
    "# printing it\n",
    "print(week_day)"
   ]
  },
  {
   "cell_type": "code",
   "execution_count": null,
   "metadata": {},
   "outputs": [],
   "source": [
    "# check the length just like a list\n",
    "len(week_day)"
   ]
  },
  {
   "cell_type": "code",
   "execution_count": null,
   "metadata": {},
   "outputs": [],
   "source": [
    "# it also accept a mix of elements\n",
    "mix = ('monday', 2, 'wednesday', 4, 'friday')"
   ]
  },
  {
   "cell_type": "code",
   "execution_count": null,
   "metadata": {},
   "outputs": [],
   "source": [
    " mix"
   ]
  },
  {
   "cell_type": "code",
   "execution_count": null,
   "metadata": {},
   "outputs": [],
   "source": [
    "# slicing and indexing work just like with list. \n",
    "best = week_day[len(week_day)-1]\n",
    "best"
   ]
  },
  {
   "cell_type": "markdown",
   "metadata": {},
   "source": [
    "### 2.b. Built-in methods example\n",
    "Tuple have built-in methods but not as much as lists. Here are two examples. "
   ]
  },
  {
   "cell_type": "code",
   "execution_count": null,
   "metadata": {},
   "outputs": [],
   "source": [
    "# creating a tuple with 5 elements \n",
    "week_day = ('Monday', 'Tuesday', 'Wednesday', 'Thursday', 'Friday', 'Friday')\n",
    "# use .index to get the index of a specific value \n",
    "week_day.index('Wednesday')"
   ]
  },
  {
   "cell_type": "code",
   "execution_count": null,
   "metadata": {},
   "outputs": [],
   "source": [
    "#use .count to get the number of times a value appears\n",
    "week_day.count('Friday') # unfortunately "
   ]
  },
  {
   "cell_type": "code",
   "execution_count": null,
   "metadata": {},
   "outputs": [],
   "source": [
    "# !!! Attention !!! tuples ar IMMUTABLE \n",
    "week_day[3] = 'Friday'"
   ]
  },
  {
   "cell_type": "code",
   "execution_count": null,
   "metadata": {},
   "outputs": [],
   "source": [
    "# !!! Attention !!! Tuples are IMMUTABLE\n",
    "week_day.append('Saturday')"
   ]
  },
  {
   "cell_type": "markdown",
   "metadata": {},
   "source": [
    "#### NB. Tuples are not used very often but they come very handy when you want a list to be immutable"
   ]
  },
  {
   "cell_type": "markdown",
   "metadata": {},
   "source": [
    "## 3. Sets\n",
    "Sets are a list of elements. Their are **unorderd** and **unique** . We can create a set with the ```set()```function. "
   ]
  },
  {
   "cell_type": "code",
   "execution_count": null,
   "metadata": {},
   "outputs": [],
   "source": [
    "numbers = set()"
   ]
  },
  {
   "cell_type": "code",
   "execution_count": null,
   "metadata": {},
   "outputs": [],
   "source": [
    "# add the string 'one' into our set\n",
    "numbers.add('one')"
   ]
  },
  {
   "cell_type": "code",
   "execution_count": null,
   "metadata": {},
   "outputs": [],
   "source": [
    "# add the interger 2 into our set\n",
    "numbers.add(2)"
   ]
  },
  {
   "cell_type": "code",
   "execution_count": null,
   "metadata": {},
   "outputs": [],
   "source": [
    "# check\n",
    "numbers"
   ]
  },
  {
   "cell_type": "code",
   "execution_count": null,
   "metadata": {},
   "outputs": [],
   "source": [
    "# trying to add a value that already in the set \n",
    "numbers.add('three')"
   ]
  },
  {
   "cell_type": "code",
   "execution_count": null,
   "metadata": {},
   "outputs": [],
   "source": [
    "numbers.add('three')"
   ]
  },
  {
   "cell_type": "code",
   "execution_count": null,
   "metadata": {},
   "outputs": [],
   "source": [
    "numbers"
   ]
  },
  {
   "cell_type": "markdown",
   "metadata": {},
   "source": [
    "As you can see. When we tried to add the integer 2 the second time, it doesn't appear in the set because it must be unique. \n",
    "It becomes usefull when you convert a list into a set in order to eleminate the duplucates. Let's see an example. "
   ]
  },
  {
   "cell_type": "code",
   "execution_count": null,
   "metadata": {},
   "outputs": [],
   "source": [
    "list_random = [1,2,4,4,5,8,8,7,2,3,5,1,2,6,9,9,9,8,7,4,]\n",
    "list_random"
   ]
  },
  {
   "cell_type": "code",
   "execution_count": null,
   "metadata": {},
   "outputs": [],
   "source": [
    "# cast it to set to get unique values \n",
    "set(list_random)"
   ]
  },
  {
   "cell_type": "markdown",
   "metadata": {},
   "source": [
    "## 4. Booleans\n",
    "Booleans ist just composed of ```True``` and ```False``` . It is a datatype and is mostly used in the conditions and loops. "
   ]
  },
  {
   "cell_type": "code",
   "execution_count": null,
   "metadata": {},
   "outputs": [],
   "source": [
    "# Set an object to be a boolean\n",
    "a = True"
   ]
  },
  {
   "cell_type": "code",
   "execution_count": null,
   "metadata": {},
   "outputs": [],
   "source": [
    "type(a)"
   ]
  },
  {
   "cell_type": "code",
   "execution_count": null,
   "metadata": {},
   "outputs": [],
   "source": [
    "# create antoher boolean object with the value False\n",
    "b = False"
   ]
  },
  {
   "cell_type": "code",
   "execution_count": null,
   "metadata": {},
   "outputs": [],
   "source": [
    "b"
   ]
  },
  {
   "cell_type": "markdown",
   "metadata": {},
   "source": [
    "a boolean can also be a result of a statement. Just like operations. Let's see an example. \n"
   ]
  },
  {
   "cell_type": "code",
   "execution_count": null,
   "metadata": {},
   "outputs": [],
   "source": [
    "# 0 is less than one. So a will be False\n",
    "f = (0 > 1)\n",
    "f"
   ]
  },
  {
   "cell_type": "code",
   "execution_count": null,
   "metadata": {},
   "outputs": [],
   "source": [
    "t = (1 > 0)\n",
    "t "
   ]
  },
  {
   "cell_type": "markdown",
   "metadata": {},
   "source": [
    "### 4.a. Comparison operators \n",
    "\n",
    "<table border=\"1\">\n",
    "\t<tbody>\n",
    "\t\t<tr>\n",
    "\t\t\t<th>Operator</th>\n",
    "\t\t\t<th>Meaning</th>\n",
    "\t\t\t<th>Example</th>\n",
    "\t\t</tr>\n",
    "\t\t<tr>\n",
    "\t\t\t<td>&gt;</td>\n",
    "\t\t\t<td>Greater that - True if left operand is greater than the right</td>\n",
    "\t\t\t<td>x &gt; y</td>\n",
    "\t\t</tr>\n",
    "\t\t<tr>\n",
    "\t\t\t<td>&lt;</td>\n",
    "\t\t\t<td>Less that - True if left operand is less than the right</td>\n",
    "\t\t\t<td>x &lt; y</td>\n",
    "\t\t</tr>\n",
    "\t\t<tr>\n",
    "\t\t\t<td>==</td>\n",
    "\t\t\t<td>Equal to - True if both operands are equal</td>\n",
    "\t\t\t<td>x == y</td>\n",
    "\t\t</tr>\n",
    "\t\t<tr>\n",
    "\t\t\t<td>!=</td>\n",
    "\t\t\t<td>Not equal to - True if operands are not equal</td>\n",
    "\t\t\t<td>x != y</td>\n",
    "\t\t</tr>\n",
    "\t\t<tr>\n",
    "\t\t\t<td>&gt;=</td>\n",
    "\t\t\t<td>Greater than or equal to - True if left operand is greater than or equal to the right</td>\n",
    "\t\t\t<td>x &gt;= y</td>\n",
    "\t\t</tr>\n",
    "\t\t<tr>\n",
    "\t\t\t<td>&lt;=</td>\n",
    "\t\t\t<td>Less than or equal to - True if left operand is less than or equal to the right</td>\n",
    "\t\t\t<td>x &lt;= y</td>\n",
    "\t\t</tr>\n",
    "\t</tbody>\n",
    "</table>\n",
    "\n",
    "Let's see some examples"
   ]
  },
  {
   "cell_type": "code",
   "execution_count": null,
   "metadata": {},
   "outputs": [],
   "source": [
    "# check if two integers are the same\n",
    "a = (5==5)"
   ]
  },
  {
   "cell_type": "code",
   "execution_count": null,
   "metadata": {},
   "outputs": [],
   "source": [
    "# check\n",
    "a"
   ]
  },
  {
   "cell_type": "code",
   "execution_count": null,
   "metadata": {},
   "outputs": [],
   "source": [
    "# check if two strings are differents\n",
    "b = ('hallo'!='bonjour')"
   ]
  },
  {
   "cell_type": "code",
   "execution_count": null,
   "metadata": {},
   "outputs": [],
   "source": [
    "# check\n",
    "b"
   ]
  },
  {
   "cell_type": "code",
   "execution_count": null,
   "metadata": {},
   "outputs": [],
   "source": [
    "# is one greater than one? \n",
    "g_t = (1 > 1)"
   ]
  },
  {
   "cell_type": "code",
   "execution_count": null,
   "metadata": {},
   "outputs": [],
   "source": [
    "# check \n",
    "g_t"
   ]
  },
  {
   "cell_type": "code",
   "execution_count": null,
   "metadata": {},
   "outputs": [],
   "source": [
    "# is one greater than one OR equal to one? \n",
    "g_e = (1 >= 1)"
   ]
  },
  {
   "cell_type": "code",
   "execution_count": null,
   "metadata": {},
   "outputs": [],
   "source": [
    "# check \n",
    "g_e"
   ]
  },
  {
   "cell_type": "markdown",
   "metadata": {},
   "source": [
    "### 4.b. Chained comparison operators \n",
    "The last concept for boolean is the two keywords ```and```and ```or``` . It allows you to say something like 1 < 2 < 3 easily. "
   ]
  },
  {
   "cell_type": "code",
   "execution_count": null,
   "metadata": {},
   "outputs": [],
   "source": [
    "# basically (1 < 2 < 3) is equivalent to (1 < 2 and 2 < 3)\n",
    "(1<2<3) == (1<2 and 2<3)"
   ]
  },
  {
   "cell_type": "markdown",
   "metadata": {},
   "source": [
    "1. ```and``` will result in ```True``` **if and only if** the **two conditions are true** f.e. \n",
    "\n",
    "   - *I am hungry **and** I have some food --> I can eat.*\n",
    "\n",
    "    if one condition is false, then you can't eat. \n",
    "    \n",
    "2. ```or``` will result in ```True``` **if there is one true in the condition.** f.e.\n",
    "   \n",
    "   - *I see food **or** I have food --> I can eat.*\n",
    "   \n",
    "   only one of the condition has to be true in order to get True. "
   ]
  },
  {
   "cell_type": "code",
   "execution_count": null,
   "metadata": {},
   "outputs": [],
   "source": [
    "# 1. \n",
    "i_am_hungry = True\n",
    "i_have_some_food = True"
   ]
  },
  {
   "cell_type": "code",
   "execution_count": null,
   "metadata": {},
   "outputs": [],
   "source": [
    "# it is true only if the two conditions are true\n",
    "can_i_eat = i_am_hungry and i_have_some_food\n",
    "can_i_eat"
   ]
  },
  {
   "cell_type": "code",
   "execution_count": null,
   "metadata": {},
   "outputs": [],
   "source": [
    "# 2. \n",
    "i_see_food = False\n",
    "i_have_food = True "
   ]
  },
  {
   "cell_type": "code",
   "execution_count": null,
   "metadata": {},
   "outputs": [],
   "source": [
    "# one condition has to be true for the sentence to be true \n",
    "can_i_eat = i_see_food or i_have_food\n",
    "can_i_eat"
   ]
  },
  {
   "cell_type": "markdown",
   "metadata": {},
   "source": [
    "If you entered a number, you may have noticed the signe quote in the output. It just means that python interpreted your input as a string, we will deal with it later. \n",
    "For now, we just asked the use to add an input but we can do anything with it. To work with the input, we have to save it in a variable. "
   ]
  },
  {
   "cell_type": "markdown",
   "metadata": {},
   "source": [
    "### NB. If you want to read the user input and then cast it to integer or float or str, you can use the appropriate function to do so. Let's ask the user for an input and cast it to int so that we can do some calcultion on it. "
   ]
  },
  {
   "cell_type": "code",
   "execution_count": null,
   "metadata": {},
   "outputs": [],
   "source": [
    "# the funciton int() cast the value from input() into an integer\n",
    "times_five = int(input())"
   ]
  },
  {
   "cell_type": "code",
   "execution_count": null,
   "metadata": {},
   "outputs": [],
   "source": [
    "result = times_five * 5"
   ]
  },
  {
   "cell_type": "code",
   "execution_count": null,
   "metadata": {},
   "outputs": [],
   "source": [
    "# check\n",
    "result "
   ]
  }
 ],
 "metadata": {
  "kernelspec": {
   "display_name": "Python 3 (ipykernel)",
   "language": "python",
   "name": "python3"
  },
  "language_info": {
   "codemirror_mode": {
    "name": "ipython",
    "version": 3
   },
   "file_extension": ".py",
   "mimetype": "text/x-python",
   "name": "python",
   "nbconvert_exporter": "python",
   "pygments_lexer": "ipython3",
   "version": "3.9.7"
  }
 },
 "nbformat": 4,
 "nbformat_minor": 4
}
