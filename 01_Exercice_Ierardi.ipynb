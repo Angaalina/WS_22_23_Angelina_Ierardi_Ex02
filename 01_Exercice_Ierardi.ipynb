{
 "cells": [
  {
   "cell_type": "markdown",
   "metadata": {},
   "source": [
    "# Exercice 00\n",
    "\n",
    "## 1 Numbers\n",
    "### 1.a. What is the *type* of the result of the expression 3 + 1.5 + 4?<br><br> (without typing code) "
   ]
  },
  {
   "cell_type": "markdown",
   "metadata": {},
   "source": [
    "type Float\n"
   ]
  },
  {
   "cell_type": "markdown",
   "metadata": {},
   "source": [
    "### 1.b. How do you get it with code? (method?) "
   ]
  },
  {
   "cell_type": "code",
   "execution_count": 1,
   "metadata": {},
   "outputs": [
    {
     "data": {
      "text/plain": [
       "float"
      ]
     },
     "execution_count": 1,
     "metadata": {},
     "output_type": "execute_result"
    }
   ],
   "source": [
    "# get the type of the result from 1.a \n",
    "type(3 + 1.5 + 4)"
   ]
  },
  {
   "cell_type": "markdown",
   "metadata": {},
   "source": [
    "### 1.c. Ask the user for an iput and then save to input to an integer called \"user_in\" and then print the value multiplied by 5. "
   ]
  },
  {
   "cell_type": "code",
   "execution_count": 2,
   "metadata": {},
   "outputs": [
    {
     "name": "stdin",
     "output_type": "stream",
     "text": [
      " 1\n"
     ]
    },
    {
     "name": "stdout",
     "output_type": "stream",
     "text": [
      "5\n"
     ]
    }
   ],
   "source": [
    "# value multiplied by 5\n",
    "user_in = int(input())\n",
    "print(user_in*5)"
   ]
  },
  {
   "cell_type": "markdown",
   "metadata": {},
   "source": [
    "### 1.d. Ask the user for an iput and then save to input to an integer called \"square_root_value\" and calculate the square_root of the number from the user (without using the sqrt function in the python library, just with standard operations)"
   ]
  },
  {
   "cell_type": "code",
   "execution_count": 9,
   "metadata": {},
   "outputs": [
    {
     "name": "stdin",
     "output_type": "stream",
     "text": [
      " 4\n"
     ]
    },
    {
     "name": "stdout",
     "output_type": "stream",
     "text": [
      "(1, 5)\n"
     ]
    }
   ],
   "source": [
    "# Square root\n",
    "square_root_value = int(input())\n",
    "square_root = square_root_value ** 0,5\n",
    "print(square_root)"
   ]
  },
  {
   "cell_type": "markdown",
   "metadata": {},
   "source": [
    "### 1.e. Ask the user for an iput and then save to input to an integer called \"square_value\" and calculate the square of the number from the user (without using the sqrt function in the python library, just with standard operations)"
   ]
  },
  {
   "cell_type": "code",
   "execution_count": 7,
   "metadata": {},
   "outputs": [
    {
     "name": "stdin",
     "output_type": "stream",
     "text": [
      " 7\n"
     ]
    },
    {
     "name": "stdout",
     "output_type": "stream",
     "text": [
      "49\n"
     ]
    }
   ],
   "source": [
    "# Square\n",
    "square_value = int(input())\n",
    "print(square_value ** 2)"
   ]
  },
  {
   "cell_type": "markdown",
   "metadata": {},
   "source": [
    "## 2 Strings"
   ]
  },
  {
   "cell_type": "markdown",
   "metadata": {},
   "source": [
    "### 2.a. Given the string 'hello' give an index command that returns 'e'. Enter your code in the cell below:"
   ]
  },
  {
   "cell_type": "code",
   "execution_count": 10,
   "metadata": {},
   "outputs": [
    {
     "data": {
      "text/plain": [
       "'e'"
      ]
     },
     "execution_count": 39,
     "metadata": {},
     "output_type": "execute_result"
    }
   ],
   "source": [
    "greeting = 'hello'\n",
    "# Print out 'e' using indexing\n",
    "print(greeting[1])"
   ]
  },
  {
   "cell_type": "markdown",
   "metadata": {},
   "source": [
    "### 2.b. Given the string 'hello' give an index command that returns 'hell'. Enter your code in the cell below:\n"
   ]
  },
  {
   "cell_type": "code",
   "execution_count": 11,
   "metadata": {},
   "outputs": [
    {
     "name": "stdout",
     "output_type": "stream",
     "text": [
      "hell\n"
     ]
    }
   ],
   "source": [
    "greeting = 'hello'\n",
    "# Print out 'hell' using indexing\n",
    "print(greeting[:4])"
   ]
  },
  {
   "cell_type": "markdown",
   "metadata": {},
   "source": [
    "### 2.c Given the string 'hello', create a new string variable called 'greeting_rest' from it to and save 'llo' in the new variable"
   ]
  },
  {
   "cell_type": "code",
   "execution_count": 12,
   "metadata": {},
   "outputs": [
    {
     "name": "stdout",
     "output_type": "stream",
     "text": [
      "llo\n"
     ]
    }
   ],
   "source": [
    "greeting = 'hello'\n",
    "# Save the part 'llo' in a new variable called 'greeting_rest' using indexing\n",
    "greeting_rest= greeting[2:]\n",
    "print(greeting_rest)"
   ]
  },
  {
   "cell_type": "markdown",
   "metadata": {},
   "source": [
    "### 2.d. Ask the user for his or her name and then save the input to a variable named \"user_name\". Then print \"Hello, *user_name* !\""
   ]
  },
  {
   "cell_type": "code",
   "execution_count": 15,
   "metadata": {},
   "outputs": [
    {
     "name": "stdin",
     "output_type": "stream",
     "text": [
      "What is your name?:  Angelina\n"
     ]
    },
    {
     "name": "stdout",
     "output_type": "stream",
     "text": [
      "Hello, Angelina!\n"
     ]
    }
   ],
   "source": [
    "user_name = input(\"What is your name?: \")\n",
    "print(\"Hello, {}!\" .format(user_name))"
   ]
  },
  {
   "cell_type": "markdown",
   "metadata": {},
   "source": [
    "### 2.e. Ask the user for his or her 'first_name', 'last_name' and 'age' and print the reust in a multi-line string like: \n",
    "'Hello, `first_name` `last_name`. \n",
    "\n",
    "You are `age` years old. '"
   ]
  },
  {
   "cell_type": "code",
   "execution_count": 16,
   "metadata": {},
   "outputs": [
    {
     "name": "stdin",
     "output_type": "stream",
     "text": [
      "First name:  Angelina\n",
      "Last name:  Ierardi\n",
      "Age:  28\n"
     ]
    },
    {
     "name": "stdout",
     "output_type": "stream",
     "text": [
      "Hello, Angelina Ierardi.\n",
      "You are 28 years old.\n"
     ]
    }
   ],
   "source": [
    "# hint: 3 inputs => 3 variables\n",
    "first_name = input(\"First name: \") \n",
    "last_name = input(\"Last name: \") \n",
    "age = input(\"Age: \")\n",
    "print(\"\"\"Hello, {} {}.\n",
    "You are {} years old.\"\"\".format(first_name, last_name, age))"
   ]
  },
  {
   "cell_type": "markdown",
   "metadata": {},
   "source": [
    "## 3. List"
   ]
  },
  {
   "cell_type": "markdown",
   "metadata": {},
   "source": [
    "### 3.a Create a list with 4 elements \"45,25,56\" in two differents way and save it to a variable called 'my_list'"
   ]
  },
  {
   "cell_type": "code",
   "execution_count": 59,
   "metadata": {},
   "outputs": [
    {
     "name": "stdout",
     "output_type": "stream",
     "text": [
      "[0, 45, 25, 56]\n"
     ]
    }
   ],
   "source": [
    "# my_list = \n",
    "my_list = [0,45,25,56]\n",
    "print(my_list)"
   ]
  },
  {
   "cell_type": "markdown",
   "metadata": {},
   "source": [
    "### 3.b. From 'my_list' change the first value (index 0) to 0."
   ]
  },
  {
   "cell_type": "code",
   "execution_count": 24,
   "metadata": {},
   "outputs": [
    {
     "name": "stdout",
     "output_type": "stream",
     "text": [
      "[0]\n"
     ]
    }
   ],
   "source": [
    "# index 0 must be 0 \n",
    "my_list[0] = 0\n",
    "print(my_list)"
   ]
  },
  {
   "cell_type": "markdown",
   "metadata": {},
   "source": [
    "### 3.c. Save the sum of all number in the list to a variable called 'sum_of_my_list' "
   ]
  },
  {
   "cell_type": "code",
   "execution_count": 60,
   "metadata": {},
   "outputs": [
    {
     "name": "stdout",
     "output_type": "stream",
     "text": [
      "81\n"
     ]
    }
   ],
   "source": [
    "# sum of 0,25,56\n",
    "my_list = [0,25,56]\n",
    "sum_of_my_list = sum(my_list)\n",
    "print(sum_of_my_list) "
   ]
  },
  {
   "cell_type": "markdown",
   "metadata": {},
   "source": [
    "### 3.d. sort the list bellow: "
   ]
  },
  {
   "cell_type": "code",
   "execution_count": 26,
   "metadata": {},
   "outputs": [
    {
     "name": "stdout",
     "output_type": "stream",
     "text": [
      "[2, 3, 4, 5, 6, 6, 7, 9]\n"
     ]
    }
   ],
   "source": [
    "list1 = [4,5,6,3,6,7,2,9]\n",
    "list1.sort()\n",
    "print(list1)"
   ]
  },
  {
   "cell_type": "markdown",
   "metadata": {},
   "source": [
    "### 3.e. Get the last 3 elements of the list using indexing and save it to a variable called 'list2'. Then make again the sum of 'list2' and insert the result to 'list2' "
   ]
  },
  {
   "cell_type": "code",
   "execution_count": 27,
   "metadata": {},
   "outputs": [
    {
     "name": "stdout",
     "output_type": "stream",
     "text": [
      "[6, 7, 9, 22]\n"
     ]
    }
   ],
   "source": [
    "# hint: you might use 3 differents variables\n",
    "list2 = list1[-3:]\n",
    "list2.append(sum(list2))\n",
    "print(list2)"
   ]
  },
  {
   "cell_type": "markdown",
   "metadata": {},
   "source": [
    "### 3.f. swap list elements\n",
    "Swap the first and last elements from the list `one_to_five`\n"
   ]
  },
  {
   "cell_type": "code",
   "execution_count": 29,
   "metadata": {},
   "outputs": [
    {
     "name": "stdout",
     "output_type": "stream",
     "text": [
      "[1, 2, 3, 4, 5]\n"
     ]
    }
   ],
   "source": [
    "# create list \n",
    "one_to_five = [5,2,3,4,1]\n",
    "one_to_five = [5,2,3,4,1]\n",
    "one_to_five[0], one_to_five[4] = one_to_five[4], one_to_five[0]\n",
    "print(one_to_five)\n"
   ]
  },
  {
   "cell_type": "markdown",
   "metadata": {},
   "source": [
    "## 4. Dictionaries \n",
    "Using keys and indexing, grap the word *Bremerhaven* from the following dictionaries: "
   ]
  },
  {
   "cell_type": "code",
   "execution_count": 64,
   "metadata": {},
   "outputs": [
    {
     "name": "stdout",
     "output_type": "stream",
     "text": [
      "Bremerhaven\n"
     ]
    }
   ],
   "source": [
    "name = {'university':'Bremerhaven'}\n",
    "# Get 'Bremerhaven'\n",
    "print(name['university'])"
   ]
  },
  {
   "cell_type": "code",
   "execution_count": 65,
   "metadata": {},
   "outputs": [
    {
     "name": "stdout",
     "output_type": "stream",
     "text": [
      "Bremerhaven\n"
     ]
    }
   ],
   "source": [
    "name = {'institution':{'name':'Bremerhaven'}}\n",
    "# Get 'Bremerhaven'\n",
    "print(name[\"institution\"][\"name\"])"
   ]
  },
  {
   "cell_type": "code",
   "execution_count": 67,
   "metadata": {},
   "outputs": [
    {
     "name": "stdout",
     "output_type": "stream",
     "text": [
      "Bremerhaven\n"
     ]
    }
   ],
   "source": [
    "name = {'region':[{'University':'Oldenburg','Hochschule':'Bremerhaven'}]}\n",
    "# Get Bremerhaven \n",
    "print(name['region'][0]['Hochschule'])"
   ]
  },
  {
   "cell_type": "markdown",
   "metadata": {},
   "source": [
    "## 5. What is the major difference between tuples and lists? "
   ]
  },
  {
   "cell_type": "markdown",
   "metadata": {},
   "source": [
    "Lists can be edited and Tuples are immutable."
   ]
  },
  {
   "cell_type": "markdown",
   "metadata": {},
   "source": [
    "## 6. Sets\n",
    "### 6.a. What is unique about a set?`\n"
   ]
  },
  {
   "cell_type": "markdown",
   "metadata": {},
   "source": [
    "Elements are unique and sets are unordered"
   ]
  },
  {
   "cell_type": "markdown",
   "metadata": {},
   "source": [
    "### 6.b. Use a set to find the unique values of the list below: "
   ]
  },
  {
   "cell_type": "code",
   "execution_count": 36,
   "metadata": {},
   "outputs": [
    {
     "name": "stdout",
     "output_type": "stream",
     "text": [
      "{1, 2, 3, 4, 5, 7, 8, 9, 74, 12, 45}\n"
     ]
    }
   ],
   "source": [
    "# create the list\n",
    "unsorted_list = [1,2,2,1,3,5,4,8,7,74,8,8,9,9,5,4,45,12,4,2]\n",
    "print(set(unsorted_list))\n"
   ]
  },
  {
   "cell_type": "markdown",
   "metadata": {},
   "source": [
    "## 6. Boolean \n",
    "What will be the value of the following boolean? \n"
   ]
  },
  {
   "cell_type": "markdown",
   "metadata": {},
   "source": [
    "```python\n",
    "4**0.5 != 2\n",
    "```\n",
    "False"
   ]
  },
  {
   "cell_type": "markdown",
   "metadata": {},
   "source": [
    "```python\n",
    "a = 1 < 4\n",
    "```\n",
    "True"
   ]
  },
  {
   "cell_type": "markdown",
   "metadata": {},
   "source": [
    "```python\n",
    "b = 'b' < 'c'\n",
    "```\n",
    "True"
   ]
  },
  {
   "cell_type": "markdown",
   "metadata": {},
   "source": [
    "```python\n",
    "c = (a == b)\n",
    "```\n",
    "True"
   ]
  },
  {
   "cell_type": "markdown",
   "metadata": {},
   "source": [
    "```python\n",
    "d = (c or False)\n",
    "```\n",
    "True"
   ]
  },
  {
   "cell_type": "markdown",
   "metadata": {},
   "source": [
    "```python\n",
    "e = (c and False) # equivalent to 'e=((a==b) and False)' <=> 'e=(((1<4)==('b'<'c')) and False' \n",
    "```\n",
    "False"
   ]
  }
 ],
 "metadata": {
  "kernelspec": {
   "display_name": "Python 3 (ipykernel)",
   "language": "python",
   "name": "python3"
  },
  "language_info": {
   "codemirror_mode": {
    "name": "ipython",
    "version": 3
   },
   "file_extension": ".py",
   "mimetype": "text/x-python",
   "name": "python",
   "nbconvert_exporter": "python",
   "pygments_lexer": "ipython3",
   "version": "3.11.0"
  }
 },
 "nbformat": 4,
 "nbformat_minor": 4
}
