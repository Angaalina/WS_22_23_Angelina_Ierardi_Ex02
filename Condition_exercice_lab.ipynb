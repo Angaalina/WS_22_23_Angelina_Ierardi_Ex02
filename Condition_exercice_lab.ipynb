{
 "cells": [
  {
   "cell_type": "markdown",
   "metadata": {},
   "source": [
    "# Conditions exercices"
   ]
  },
  {
   "cell_type": "markdown",
   "metadata": {},
   "source": [
    "## Exercice 1: (use only the **`if`** statement without ~~elif~~ or ~~else~~) \n",
    "Ask the user for two integer *val_1* and *val_2* and then print if the first input is greater than the second or if both inputs are the same. "
   ]
  },
  {
   "cell_type": "code",
   "execution_count": 5,
   "metadata": {},
   "outputs": [
    {
     "name": "stdout",
     "output_type": "stream",
     "text": [
      "Add the first number: 1\n",
      "second number\n",
      "Add the second number: 2\n"
     ]
    }
   ],
   "source": [
    "# ask the user for an input as interger "
   ]
  },
  {
   "cell_type": "code",
   "execution_count": 6,
   "metadata": {},
   "outputs": [
    {
     "name": "stdout",
     "output_type": "stream",
     "text": [
      "1 is less than 2\n"
     ]
    }
   ],
   "source": [
    "\n"
   ]
  },
  {
   "cell_type": "markdown",
   "metadata": {},
   "source": [
    "## Exercice 2: \n",
    "Same as Exercice 1 but with with `if`, `elif`and `else` . "
   ]
  },
  {
   "cell_type": "code",
   "execution_count": null,
   "metadata": {},
   "outputs": [],
   "source": [
    "# ask the user for an input as interger \n"
   ]
  },
  {
   "cell_type": "code",
   "execution_count": null,
   "metadata": {},
   "outputs": [],
   "source": [
    "\n"
   ]
  },
  {
   "cell_type": "markdown",
   "metadata": {},
   "source": [
    "## Exercice 3: \n",
    "Ask the user for and input between 1 and 12 and tell the month as string. If the input is more than 12, tell the user that it doesn't exist yet. \n",
    "\n",
    "Example: \n",
    "\n",
    "input:  1 \n",
    "output: January\n",
    "\n",
    "input: 2 \n",
    "output: February\n",
    "\n",
    ".\n",
    "\n",
    ". \n",
    "\n",
    ".\n",
    "\n",
    "\n",
    "input: 20\n",
    "output: This month doesn't exist yet. "
   ]
  },
  {
   "cell_type": "code",
   "execution_count": 4,
   "metadata": {},
   "outputs": [
    {
     "name": "stdout",
     "output_type": "stream",
     "text": [
      "Add a month number: 20\n",
      "This month doesn't exist yet.\n"
     ]
    }
   ],
   "source": [
    "# ask the user for an input as interger \n"
   ]
  },
  {
   "cell_type": "code",
   "execution_count": null,
   "metadata": {},
   "outputs": [],
   "source": []
  }
 ],
 "metadata": {
  "kernelspec": {
   "display_name": "Python 3 (ipykernel)",
   "language": "python",
   "name": "python3"
  },
  "language_info": {
   "codemirror_mode": {
    "name": "ipython",
    "version": 3
   },
   "file_extension": ".py",
   "mimetype": "text/x-python",
   "name": "python",
   "nbconvert_exporter": "python",
   "pygments_lexer": "ipython3",
   "version": "3.9.7"
  }
 },
 "nbformat": 4,
 "nbformat_minor": 4
}
