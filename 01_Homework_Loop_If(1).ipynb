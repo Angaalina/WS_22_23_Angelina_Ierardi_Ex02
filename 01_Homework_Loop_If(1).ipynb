{
 "cells": [
  {
   "cell_type": "markdown",
   "id": "e0d2219e-a3b4-4a8c-8032-fbfe807dcbc7",
   "metadata": {},
   "source": [
    "# Homework (loop, if)  \n",
    "\n"
   ]
  },
  {
   "cell_type": "markdown",
   "id": "ea5e817e-4336-4eec-b20e-a4ee4276b0a7",
   "metadata": {},
   "source": [
    "## Exercise 0: \n",
    "\n",
    "Save all the element of the list that has exactly 4 letters in it in a new variable (list) called `true_friends` ! \n",
    "\n",
    "__Example__ \n",
    "```\n",
    "list_friend = [\"Ryan\", \"Mark\", \"Stefan\", \"Jeff\"] \n",
    "\n",
    "# The output should be \n",
    "list_output = [\"Ryan\", \"Mark\", \"Jeff\"] \n",
    "```"
   ]
  },
  {
   "cell_type": "code",
   "execution_count": 1,
   "id": "1b85ff31-f143-45ea-a94a-dd7606927a85",
   "metadata": {},
   "outputs": [],
   "source": [
    "# your code here \n",
    "list_friend = [\"Ryan\", \"Mark\", \"Stefan\", \"Jeff\"]\n",
    "list_output = [\"Ryan\", \"Mark\",\"Jeff\"]\n"
   ]
  },
  {
   "cell_type": "markdown",
   "id": "0f17aa07-d317-49fd-88c8-fc1657454c64",
   "metadata": {},
   "source": [
    "## Exercise 1: \n",
    "\n",
    "Write a program that takes a string and save the result into a new string with all vowels removed.\n",
    "- For our use case, 'y' is not considerd as a vowel.\n",
    "\n",
    "__Example__\n",
    "```\n",
    "\"This website is for losers LOL!\" \n",
    "should become \n",
    "\"Ths wbst s fr lsrs LL!\".\n",
    "```"
   ]
  },
  {
   "cell_type": "code",
   "execution_count": null,
   "id": "2863315f-c2a9-4120-a060-79a6c351622a",
   "metadata": {},
   "outputs": [],
   "source": [
    "# your code here \n",
    "string_ = \"This website is for losers LOL!\"\n",
    "vowels = ['a','e','i','o','u']\n",
    "new_string = ()\n",
    "\n"
   ]
  },
  {
   "cell_type": "markdown",
   "id": "09767259-2f8d-4ca3-8899-15745ee0bffa",
   "metadata": {},
   "source": [
    "## Exercise 2 \n",
    "\n",
    "From an Integer list, create a new list by adding each consecutive pair of the list.\n",
    "\n",
    "Examples: \n",
    "\n",
    "[1, 1, 1, 1]  -->  [2, 2, 2]  #  [1+1, 1+1, 1+1]\n",
    "\n",
    "\n",
    "[1, 2, 3, 4]  -->  [3, 5, 7]  #  [1+2, 2+3, 3+4]\n",
    "\n",
    "\n",
    "[1, 10, 100]  -->  [11, 110]  #  [1+10, 10+100]"
   ]
  },
  {
   "cell_type": "code",
   "execution_count": null,
   "id": "6eb28e3a-f9e6-474c-a1bc-c2bd5927ed23",
   "metadata": {},
   "outputs": [],
   "source": [
    "# your code here \n",
    "list_test_1 = [1,2,3,4]\n",
    "list_test_2 = [1,1,1,1]\n",
    "\n",
    "n = int(input(\"Enter the range of the list:\\n\"))\n",
    "l1 = [i for i in range(n)] #Creates list of numbers in the range 0 to n\n",
    "\n",
    "\n",
    "print(l1)"
   ]
  },
  {
   "cell_type": "markdown",
   "id": "c28b4274-da70-4580-8557-fd23bf5d4d6a",
   "metadata": {},
   "source": [
    "## Exercise 3 \n",
    "\n",
    "You are given an odd-length array of integers, in which all of them are the same, except for one single number.\n",
    "\n",
    "Complete the method which accepts such an array, and returns that single different number.\n",
    "\n",
    "The input array will always be valid! (odd-length >= 3)\n",
    "\n",
    "__Example:__\n",
    "```\n",
    "[1, 1, 2] ==> 2\n",
    "[17, 17, 3, 17, 17, 17, 17] ==> 3\n",
    "```"
   ]
  },
  {
   "cell_type": "code",
   "execution_count": 4,
   "id": "9ae4dfc6-d3b2-4342-89d7-31ae5db6a6fc",
   "metadata": {},
   "outputs": [
    {
     "name": "stdout",
     "output_type": "stream",
     "text": [
      "2\n",
      "3\n"
     ]
    }
   ],
   "source": [
    "# your code here \n",
    "\n",
    "test_list_1 = [1, 1, 1, 1, 1, 1, 2] # 2\n",
    "test_list_2 = [2, 3, 2, 2, 2] # 3\n",
    "\n",
    "for i in test_list_1:\n",
    "    if test_list_1.count(i) == 1: \n",
    "        print(i)\n",
    "        \n",
    "for k in test_list_2:\n",
    "    if test_list_2.count(k) == 1:\n",
    "        print(k)\n"
   ]
  },
  {
   "cell_type": "code",
   "execution_count": null,
   "id": "dbc85ec2-c572-4444-a5f7-5aaa88e76ac3",
   "metadata": {},
   "outputs": [],
   "source": []
  }
 ],
 "metadata": {
  "kernelspec": {
   "display_name": "Python 3 (ipykernel)",
   "language": "python",
   "name": "python3"
  },
  "language_info": {
   "codemirror_mode": {
    "name": "ipython",
    "version": 3
   },
   "file_extension": ".py",
   "mimetype": "text/x-python",
   "name": "python",
   "nbconvert_exporter": "python",
   "pygments_lexer": "ipython3",
   "version": "3.11.0"
  }
 },
 "nbformat": 4,
 "nbformat_minor": 5
}
